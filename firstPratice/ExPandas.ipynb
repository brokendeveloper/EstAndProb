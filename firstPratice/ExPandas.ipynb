{
 "cells": [
  {
   "cell_type": "code",
   "execution_count": 2,
   "id": "396de761-23c2-412a-be8a-40c55225e313",
   "metadata": {},
   "outputs": [],
   "source": [
    "import pandas as pd"
   ]
  },
  {
   "cell_type": "code",
   "execution_count": 4,
   "id": "4b971d04-6c1f-4428-8b93-ff719d7b4ad1",
   "metadata": {},
   "outputs": [],
   "source": [
    "playersValorant = pd.read_csv(\"./Players.csv\")"
   ]
  },
  {
   "cell_type": "code",
   "execution_count": 5,
   "id": "e5c8067f-5456-437e-8121-138062813495",
   "metadata": {},
   "outputs": [
    {
     "name": "stdout",
     "output_type": "stream",
     "text": [
      "primeiras 5 linhas\n",
      "   Rank   Player  Gold  Silver  Bronze  S Tier  Earnings\n",
      "0     1    zombs    13       5       1       1  $113,550\n",
      "1     2  ShahZaM    13       4       1       1  $113,450\n",
      "2     3     dapr    14       3       1       1  $112,870\n",
      "3     4     SicK    12       3       1       1  $112,650\n",
      "4     5     cNed    12       4       2       1  $107,735\n"
     ]
    }
   ],
   "source": [
    "#questao 1\n",
    "print(\"primeiras 5 linhas\")\n",
    "print(playersValorant.head())"
   ]
  },
  {
   "cell_type": "code",
   "execution_count": 6,
   "id": "265840a7-a555-4f0e-ae16-dc417d18b0df",
   "metadata": {},
   "outputs": [
    {
     "name": "stdout",
     "output_type": "stream",
     "text": [
      "últimas 5 linhas\n",
      "     Rank      Player  Gold  Silver  Bronze  S Tier Earnings\n",
      "495   496         Kim     3       4       1       0   $5,555\n",
      "496   497        Less     3       1       1       0   $5,543\n",
      "497   498  Senhoachic     7       2       5       0   $5,537\n",
      "498   499       chase    19      10       2       0   $5,531\n",
      "499   500     Harmful     6       4       2       0   $5,530\n"
     ]
    }
   ],
   "source": [
    "print(\"últimas 5 linhas\")\n",
    "print(playersValorant.tail())"
   ]
  },
  {
   "cell_type": "code",
   "execution_count": 10,
   "id": "b4b545c3-e9d5-4bfc-b72a-f4831160d384",
   "metadata": {},
   "outputs": [
    {
     "name": "stdout",
     "output_type": "stream",
     "text": [
      "informações sobre o dataframe:\n",
      "<class 'pandas.core.frame.DataFrame'>\n",
      "RangeIndex: 500 entries, 0 to 499\n",
      "Data columns (total 7 columns):\n",
      " #   Column    Non-Null Count  Dtype \n",
      "---  ------    --------------  ----- \n",
      " 0   Rank      500 non-null    int64 \n",
      " 1   Player    500 non-null    object\n",
      " 2   Gold      500 non-null    int64 \n",
      " 3   Silver    500 non-null    int64 \n",
      " 4   Bronze    500 non-null    int64 \n",
      " 5   S Tier    500 non-null    int64 \n",
      " 6   Earnings  500 non-null    object\n",
      "dtypes: int64(5), object(2)\n",
      "memory usage: 27.5+ KB\n",
      "None\n",
      "\n",
      " estaticas com describe\n",
      "             Rank        Gold      Silver      Bronze      S Tier\n",
      "count  500.000000  500.000000  500.000000  500.000000  500.000000\n",
      "mean   250.424000    6.912000    4.054000    1.666000    0.030000\n",
      "std    144.452002    4.755364    2.576113    1.461066    0.170758\n",
      "min      1.000000    0.000000    0.000000    0.000000    0.000000\n",
      "25%    125.750000    3.000000    2.000000    1.000000    0.000000\n",
      "50%    250.500000    6.000000    4.000000    1.000000    0.000000\n",
      "75%    375.250000    9.000000    6.000000    2.000000    0.000000\n",
      "max    500.000000   26.000000   13.000000    8.000000    1.000000\n",
      "\n",
      " shape:\n",
      "(500, 7)\n"
     ]
    }
   ],
   "source": [
    "# questao 2\n",
    "print(\"informações sobre o dataframe:\")\n",
    "print(playersValorant.info())\n",
    "\n",
    "print(\"\\n estaticas com describe\")\n",
    "print(playersValorant.describe())\n",
    "\n",
    "print(\"\\n shape:\")\n",
    "print(playersValorant.shape)\n"
   ]
  },
  {
   "cell_type": "code",
   "execution_count": 11,
   "id": "0f6df273-eb17-440c-a1f5-8a666cd9d058",
   "metadata": {},
   "outputs": [
    {
     "name": "stdout",
     "output_type": "stream",
     "text": [
      "Colunas com valores ausentes:\n",
      "Rank        0\n",
      "Player      0\n",
      "Gold        0\n",
      "Silver      0\n",
      "Bronze      0\n",
      "S Tier      0\n",
      "Earnings    0\n",
      "dtype: int64\n"
     ]
    }
   ],
   "source": [
    "# questao 3\n",
    "print(\"Colunas com valores ausentes:\")\n",
    "print(playersValorant.isnull().sum())"
   ]
  },
  {
   "cell_type": "code",
   "execution_count": 14,
   "id": "9b03165d-91e3-48f1-8bed-1d0e95a7451a",
   "metadata": {},
   "outputs": [
    {
     "name": "stdout",
     "output_type": "stream",
     "text": [
      "primeiras 5 linhas em 'Gold' que os valores são maiores que a média da coluna\n",
      "   Rank   Player  Gold  Silver  Bronze  S Tier  Earnings\n",
      "0     1    zombs    13       5       1       1  $113,550\n",
      "1     2  ShahZaM    13       4       1       1  $113,450\n",
      "2     3     dapr    14       3       1       1  $112,870\n",
      "3     4     SicK    12       3       1       1  $112,650\n",
      "4     5     cNed    12       4       2       1  $107,735\n"
     ]
    }
   ],
   "source": [
    "# questao 4\n",
    "#media com mean\n",
    "media_gold = playersValorant['Gold'].mean()\n",
    "\n",
    "# filtro\n",
    "playersValorant_filter = playersValorant[playersValorant['Gold'] > media_gold]\n",
    "\n",
    "print(\"primeiras 5 linhas em 'Gold' que os valores são maiores que a média da coluna\")\n",
    "print(playersValorant_filter.head())"
   ]
  },
  {
   "cell_type": "code",
   "execution_count": 13,
   "id": "c892477d-96db-4cc3-acbb-8b222e4ea2d5",
   "metadata": {},
   "outputs": [
    {
     "name": "stdout",
     "output_type": "stream",
     "text": [
      "primeiras 5 linhas onde Gold possue o valor = 13\n",
      "    Rank     Player  Gold  Silver  Bronze  S Tier  Earnings\n",
      "0      1      zombs    13       5       1       1  $113,550\n",
      "1      2    ShahZaM    13       4       1       1  $113,450\n",
      "8      9  Chronicle    13       6       0       1  $103,574\n",
      "13    14       zeek    13       4       1       1   $94,754\n",
      "40    41       NagZ    13       5       2       0   $41,980\n"
     ]
    }
   ],
   "source": [
    "# questao 5\n",
    "gold_value = playersValorant[playersValorant['Gold'] == 13]\n",
    "\n",
    "print(\"primeiras 5 linhas onde Gold possue o valor = 13\")\n",
    "print(gold_value.head())"
   ]
  },
  {
   "cell_type": "code",
   "execution_count": 16,
   "id": "1a427d4d-a591-4f25-807e-9ad20547f908",
   "metadata": {},
   "outputs": [
    {
     "name": "stdout",
     "output_type": "stream",
     "text": [
      "DF com nova coluna 'Gold_x_Silver':\n",
      "   Gold  Silver  Gold_x_Silver\n",
      "0    13       5              8\n",
      "1    13       4              9\n",
      "2    14       3             11\n",
      "3    12       3              9\n",
      "4    12       4              8\n"
     ]
    }
   ],
   "source": [
    "# questao 6\n",
    "playersValorant['Gold_x_Silver'] = playersValorant['Gold'] - playersValorant['Silver']\n",
    "\n",
    "print(\"DF com nova coluna 'Gold_x_Silver':\")\n",
    "print(playersValorant[['Gold','Silver','Gold_x_Silver']].head())\n"
   ]
  },
  {
   "cell_type": "code",
   "execution_count": 17,
   "id": "1d3a6900-15ca-4570-9704-a36122231e80",
   "metadata": {},
   "outputs": [
    {
     "name": "stdout",
     "output_type": "stream",
     "text": [
      "DF com a nova coluna baseada em ouros\n",
      "     Gold Goat_Category\n",
      "0      13          goat\n",
      "1      13          goat\n",
      "2      14          goat\n",
      "3      12          goat\n",
      "4      12          goat\n",
      "..    ...           ...\n",
      "495     3       give up\n",
      "496     3       give up\n",
      "497     7   good player\n",
      "498    19          goat\n",
      "499     6   good player\n",
      "\n",
      "[500 rows x 2 columns]\n"
     ]
    }
   ],
   "source": [
    "# questao 7\n",
    "\n",
    "def theBigFive(gold):\n",
    "    if gold < 5:\n",
    "        return \"give up\"\n",
    "    elif gold <= 11:\n",
    "        return \"good player\"\n",
    "    else:\n",
    "        return \"goat\"\n",
    "\n",
    "playersValorant['Goat_Category'] = playersValorant['Gold'].apply(theBigFive)\n",
    "print(\"DF com a nova coluna baseada em ouros\")\n",
    "print(playersValorant[['Gold', 'Goat_Category']])"
   ]
  },
  {
   "cell_type": "code",
   "execution_count": 19,
   "id": "e5a87516-7dd5-428d-844d-cbf7d2eb1ec6",
   "metadata": {},
   "outputs": [
    {
     "name": "stdout",
     "output_type": "stream",
     "text": [
      "DF com coluna ordenada de forma descrecente e index resetado:\n",
      "0    26\n",
      "1    25\n",
      "2    23\n",
      "3    23\n",
      "4    21\n",
      "Name: Gold, dtype: int64\n"
     ]
    }
   ],
   "source": [
    "# questao 8\n",
    "playersValorant_sorted = playersValorant.sort_values(by='Gold', ascending=False).reset_index(drop=True)\n",
    "\n",
    "print(\"DF com coluna ordenada de forma descrecente e index resetado:\")\n",
    "print(playersValorant_sorted['Gold'].head())"
   ]
  },
  {
   "cell_type": "code",
   "execution_count": 20,
   "id": "491f4317-0083-42fd-ad4c-3001dfc24fcc",
   "metadata": {},
   "outputs": [
    {
     "name": "stdout",
     "output_type": "stream",
     "text": [
      "DF ordenado primeiro por ouros e depois por pratas:\n",
      "     Gold  Silver\n",
      "153     0       8\n",
      "223     0       3\n",
      "248     0       3\n",
      "257     0       3\n",
      "298     0       3\n"
     ]
    }
   ],
   "source": [
    "# questao 9\n",
    "playersValorant_multi_sorted = playersValorant.sort_values(by=['Gold', 'Silver'], ascending=[True,False])\n",
    "print(\"DF ordenado primeiro por ouros e depois por pratas:\")\n",
    "print(playersValorant_multi_sorted[['Gold','Silver']].head())"
   ]
  },
  {
   "cell_type": "code",
   "execution_count": null,
   "id": "8d1f37e6-fc2d-4414-b626-df34a42df461",
   "metadata": {},
   "outputs": [],
   "source": []
  }
 ],
 "metadata": {
  "kernelspec": {
   "display_name": "Python 3 (ipykernel)",
   "language": "python",
   "name": "python3"
  },
  "language_info": {
   "codemirror_mode": {
    "name": "ipython",
    "version": 3
   },
   "file_extension": ".py",
   "mimetype": "text/x-python",
   "name": "python",
   "nbconvert_exporter": "python",
   "pygments_lexer": "ipython3",
   "version": "3.10.0"
  }
 },
 "nbformat": 4,
 "nbformat_minor": 5
}
