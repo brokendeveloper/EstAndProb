{
 "cells": [
  {
   "cell_type": "code",
   "execution_count": 2,
   "id": "c3e60798-1f86-4ab6-b683-44181c4357d2",
   "metadata": {},
   "outputs": [],
   "source": [
    "import numpy as np"
   ]
  },
  {
   "cell_type": "code",
   "execution_count": 3,
   "id": "dcc0fe0f-f653-410b-adf8-77744a04a4dd",
   "metadata": {},
   "outputs": [
    {
     "name": "stdout",
     "output_type": "stream",
     "text": [
      "[[87 35 91 71 84]\n",
      " [12 91 27 96 98]\n",
      " [86 87 21 70 48]\n",
      " [61 53 94 41 90]\n",
      " [63 48 38 41 13]]\n"
     ]
    }
   ],
   "source": [
    "# questão 1\n",
    "random_array = np.random.randint(10, 99, (5,5))\n",
    "print(random_array)"
   ]
  },
  {
   "cell_type": "code",
   "execution_count": 4,
   "id": "cc49f38f-f78a-414b-b752-20bafc39a519",
   "metadata": {},
   "outputs": [
    {
     "name": "stdout",
     "output_type": "stream",
     "text": [
      "[[-1 35 91 71 84]\n",
      " [12 -1 27 96 98]\n",
      " [86 87 -1 70 48]\n",
      " [61 53 94 -1 90]\n",
      " [63 48 38 41 -1]]\n"
     ]
    }
   ],
   "source": [
    "# questão 2\n",
    "np.fill_diagonal(random_array, -1)\n",
    "print(random_array)"
   ]
  },
  {
   "cell_type": "code",
   "execution_count": 5,
   "id": "dc6f8290-261e-4fd9-ad36-c2fdc44e41d3",
   "metadata": {},
   "outputs": [
    {
     "name": "stdout",
     "output_type": "stream",
     "text": [
      "Matriz original:\n",
      "[405 671 464 466  86  45 732  82 628 603 944 361 166 758 261 464 509 557\n",
      " 587 947 458 764 652 680 730 187 578 645 445 363 539  26 972 702 105 127\n",
      " 497 986 804 566 123 751 299 423 357 930 688 577  59 496 392 110 763  21\n",
      " 995 907 182 424 429 262 174 889 138 141 674 271 828 591 461 548 947 209\n",
      "  47 295 911 929 534 280  65 908 752 905 219 356 314   5 666 283 850  90\n",
      " 960 475 561 230 551 729 915 973 313 794]\n",
      "\n",
      " Nova matriz:\n",
      "[ -1 671 464 466  86  -1  -1  82 628  -1 944 361 166 758  -1 464 509 557\n",
      " 587 947 458 764 652 680 730 187 578  -1 445  -1 539  26  -1  -1  -1 127\n",
      " 497 986  -1 566  -1 751 299  -1  -1  -1 688 577  59 496 392 110 763  -1\n",
      " 995 907 182 424  -1 262  -1 889  -1  -1 674 271  -1  -1 461 548 947 209\n",
      "  47 295 911 929  -1 280  65 908 752 905  -1 356 314   5  -1 283 850  -1\n",
      "  -1 475  -1 230 551  -1  -1 973 313 794]\n"
     ]
    }
   ],
   "source": [
    "# questão 3\n",
    "new_random_array = np.random.randint(1, 1000, 100)\n",
    "print(\"Matriz original:\")\n",
    "print(new_random_array)\n",
    "number = 3\n",
    "replacement_value = -1\n",
    "\n",
    "new_random_array[new_random_array % number == 0] = replacement_value\n",
    "print(\"\\n Nova matriz:\")\n",
    "print(new_random_array)\n"
   ]
  },
  {
   "cell_type": "code",
   "execution_count": 6,
   "id": "75dd9dc5-699a-49e5-9d6d-bcbafed29521",
   "metadata": {},
   "outputs": [
    {
     "name": "stdout",
     "output_type": "stream",
     "text": [
      "Matriz um:\n",
      "[[11 20 13]\n",
      " [15 21 25]\n",
      " [34  5 10]]\n",
      "\n",
      " Matriz dois:\n",
      "[[29 18 34]\n",
      " [39  8 15]\n",
      " [29 41 24]]\n"
     ]
    }
   ],
   "source": [
    "# questão 4\n",
    "array_one = np.random.randint(1, 50, (3,3))\n",
    "\n",
    "print(\"Matriz um:\")\n",
    "print(array_one)\n",
    "\n",
    "array_two = np.random.randint(1, 50,(3,3))\n",
    "print(\"\\n Matriz dois:\")\n",
    "print(array_two)"
   ]
  },
  {
   "cell_type": "code",
   "execution_count": 7,
   "id": "e2eddf15-b118-4caf-8f7a-9d2067ed34a4",
   "metadata": {},
   "outputs": [
    {
     "name": "stdout",
     "output_type": "stream",
     "text": [
      "resultado:\n",
      "[[ 4.17241379 22.22222222  4.97058824]\n",
      " [ 5.76923077 55.125      41.66666667]\n",
      " [39.86206897  0.6097561   4.16666667]]\n"
     ]
    }
   ],
   "source": [
    "# questão 5\n",
    "squared_array_one = array_one ** 2\n",
    "array_two[array_two == 0] = 1\n",
    "\n",
    "# operação\n",
    "result = squared_array_one / array_two\n",
    "\n",
    "print(\"resultado:\")\n",
    "print(result)"
   ]
  },
  {
   "cell_type": "code",
   "execution_count": 8,
   "id": "012e6893-3433-4662-86ec-1816d6e9c7fc",
   "metadata": {},
   "outputs": [
    {
     "name": "stdout",
     "output_type": "stream",
     "text": [
      "Array 4x4 padrão:\n",
      "[[ 5  6 22 27]\n",
      " [27 10  4 21]\n",
      " [23 12 23 20]\n",
      " [27 23  6 10]]\n",
      "\n",
      " Matriz inversa:\n",
      "[[-0.05045028  0.02968204  0.04980702 -0.02573056]\n",
      " [ 0.04193941 -0.04008737 -0.05345454  0.07785616]\n",
      " [-0.01254718 -0.04025702  0.06605121 -0.01368527]\n",
      " [ 0.04728345  0.03621365 -0.05116424 -0.00138549]]\n"
     ]
    }
   ],
   "source": [
    "# questão 6\n",
    "while True:\n",
    "  array_4x4 = np.random.randint(1, 30, (4,4))\n",
    "  array_inv = np.linalg.inv(array_4x4)\n",
    "  break\n",
    "print(\"Array 4x4 padrão:\")\n",
    "print(array_4x4)\n",
    "print(\"\\n Matriz inversa:\")\n",
    "print(array_inv)\n"
   ]
  },
  {
   "cell_type": "code",
   "execution_count": 9,
   "id": "2100a4f8-6740-4a0d-9a93-e845e1025976",
   "metadata": {},
   "outputs": [
    {
     "name": "stdout",
     "output_type": "stream",
     "text": [
      "Matriz original: \n",
      "[[0. 0. 0. 0. 0. 0. 0. 0. 0. 0.]\n",
      " [0. 0. 0. 0. 0. 0. 0. 0. 0. 0.]\n",
      " [0. 0. 0. 0. 0. 0. 0. 0. 0. 0.]\n",
      " [0. 0. 0. 0. 0. 0. 0. 0. 0. 0.]\n",
      " [0. 0. 0. 0. 0. 0. 0. 0. 0. 0.]\n",
      " [0. 0. 0. 0. 0. 0. 0. 0. 0. 0.]\n",
      " [0. 0. 0. 0. 0. 0. 0. 0. 0. 0.]\n",
      " [0. 0. 0. 0. 0. 0. 0. 0. 0. 0.]\n",
      " [0. 0. 0. 0. 0. 0. 0. 0. 0. 0.]\n",
      " [0. 0. 0. 0. 0. 0. 0. 0. 0. 0.]]\n",
      "\n",
      " Matriz com perimetro 1:\n",
      "[[1. 1. 1. 1. 1. 1. 1. 1. 1. 1.]\n",
      " [1. 0. 0. 0. 0. 0. 0. 0. 0. 1.]\n",
      " [1. 0. 0. 0. 0. 0. 0. 0. 0. 1.]\n",
      " [1. 0. 0. 0. 0. 0. 0. 0. 0. 1.]\n",
      " [1. 0. 0. 0. 0. 0. 0. 0. 0. 1.]\n",
      " [1. 0. 0. 0. 0. 0. 0. 0. 0. 1.]\n",
      " [1. 0. 0. 0. 0. 0. 0. 0. 0. 1.]\n",
      " [1. 0. 0. 0. 0. 0. 0. 0. 0. 1.]\n",
      " [1. 0. 0. 0. 0. 0. 0. 0. 0. 1.]\n",
      " [1. 1. 1. 1. 1. 1. 1. 1. 1. 1.]]\n"
     ]
    }
   ],
   "source": [
    "# questão 7\n",
    "array_10x10 = np.zeros((10,10))\n",
    "print(\"Matriz original: \")\n",
    "print(array_10x10)\n",
    "\n",
    "array_10x10[0,:] = 1\n",
    "array_10x10[-1,:] = 1\n",
    "array_10x10[:, 0] = 1\n",
    "array_10x10[:, -1] =1\n",
    "\n",
    "print(\"\\n Matriz com perimetro 1:\")\n",
    "print(array_10x10)"
   ]
  },
  {
   "cell_type": "code",
   "execution_count": null,
   "id": "bee4342b-2c8c-44a7-8f2e-4ca6cc59c95b",
   "metadata": {},
   "outputs": [],
   "source": []
  }
 ],
 "metadata": {
  "kernelspec": {
   "display_name": "Python 3 (ipykernel)",
   "language": "python",
   "name": "python3"
  },
  "language_info": {
   "codemirror_mode": {
    "name": "ipython",
    "version": 3
   },
   "file_extension": ".py",
   "mimetype": "text/x-python",
   "name": "python",
   "nbconvert_exporter": "python",
   "pygments_lexer": "ipython3",
   "version": "3.10.0"
  }
 },
 "nbformat": 4,
 "nbformat_minor": 5
}
